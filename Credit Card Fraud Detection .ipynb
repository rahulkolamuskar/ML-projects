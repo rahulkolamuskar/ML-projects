{
 "cells": [
  {
   "cell_type": "markdown",
   "id": "db68f04f",
   "metadata": {},
   "source": [
    "#IMPORTING THE LIBRARIES"
   ]
  },
  {
   "cell_type": "code",
   "execution_count": 1,
   "id": "d0142dc9",
   "metadata": {},
   "outputs": [],
   "source": [
    "import pandas as pd\n",
    "import numpy as np\n",
    "from sklearn.model_selection import train_test_split\n",
    "from sklearn.linear_model import LogisticRegression\n",
    "from sklearn.metrics import accuracy_score\n",
    "from sklearn.preprocessing import StandardScaler\n",
    "from sklearn.tree import DecisionTreeClassifier\n",
    "from sklearn.ensemble import RandomForestClassifier\n",
    "from sklearn.metrics import precision_score, recall_score, f1_score, confusion_matrix, classification_report\n"
   ]
  },
  {
   "cell_type": "markdown",
   "id": "342efa42",
   "metadata": {},
   "source": [
    "#LOADING THE DATASET TO THE PANDAS DATAFRAME"
   ]
  },
  {
   "cell_type": "code",
   "execution_count": 2,
   "id": "ab73b9d9",
   "metadata": {},
   "outputs": [],
   "source": [
    "creditcard_data=pd.read_csv('fraudTest.csv')"
   ]
  },
  {
   "cell_type": "markdown",
   "id": "ee4755ab",
   "metadata": {},
   "source": [
    "#FIRST 5 ROWS OF THE DATASET USING head() METHOD"
   ]
  },
  {
   "cell_type": "code",
   "execution_count": 3,
   "id": "5a0472e3",
   "metadata": {},
   "outputs": [
    {
     "data": {
      "text/html": [
       "<div>\n",
       "<style scoped>\n",
       "    .dataframe tbody tr th:only-of-type {\n",
       "        vertical-align: middle;\n",
       "    }\n",
       "\n",
       "    .dataframe tbody tr th {\n",
       "        vertical-align: top;\n",
       "    }\n",
       "\n",
       "    .dataframe thead th {\n",
       "        text-align: right;\n",
       "    }\n",
       "</style>\n",
       "<table border=\"1\" class=\"dataframe\">\n",
       "  <thead>\n",
       "    <tr style=\"text-align: right;\">\n",
       "      <th></th>\n",
       "      <th>Unnamed: 0</th>\n",
       "      <th>trans_date_trans_time</th>\n",
       "      <th>cc_num</th>\n",
       "      <th>merchant</th>\n",
       "      <th>category</th>\n",
       "      <th>amt</th>\n",
       "      <th>first</th>\n",
       "      <th>last</th>\n",
       "      <th>gender</th>\n",
       "      <th>street</th>\n",
       "      <th>...</th>\n",
       "      <th>lat</th>\n",
       "      <th>long</th>\n",
       "      <th>city_pop</th>\n",
       "      <th>job</th>\n",
       "      <th>dob</th>\n",
       "      <th>trans_num</th>\n",
       "      <th>unix_time</th>\n",
       "      <th>merch_lat</th>\n",
       "      <th>merch_long</th>\n",
       "      <th>is_fraud</th>\n",
       "    </tr>\n",
       "  </thead>\n",
       "  <tbody>\n",
       "    <tr>\n",
       "      <th>0</th>\n",
       "      <td>0</td>\n",
       "      <td>2020-06-21 12:14:25</td>\n",
       "      <td>2291163933867244</td>\n",
       "      <td>fraud_Kirlin and Sons</td>\n",
       "      <td>personal_care</td>\n",
       "      <td>2.86</td>\n",
       "      <td>Jeff</td>\n",
       "      <td>Elliott</td>\n",
       "      <td>M</td>\n",
       "      <td>351 Darlene Green</td>\n",
       "      <td>...</td>\n",
       "      <td>33.9659</td>\n",
       "      <td>-80.9355</td>\n",
       "      <td>333497</td>\n",
       "      <td>Mechanical engineer</td>\n",
       "      <td>1968-03-19</td>\n",
       "      <td>2da90c7d74bd46a0caf3777415b3ebd3</td>\n",
       "      <td>1371816865</td>\n",
       "      <td>33.986391</td>\n",
       "      <td>-81.200714</td>\n",
       "      <td>0</td>\n",
       "    </tr>\n",
       "    <tr>\n",
       "      <th>1</th>\n",
       "      <td>1</td>\n",
       "      <td>2020-06-21 12:14:33</td>\n",
       "      <td>3573030041201292</td>\n",
       "      <td>fraud_Sporer-Keebler</td>\n",
       "      <td>personal_care</td>\n",
       "      <td>29.84</td>\n",
       "      <td>Joanne</td>\n",
       "      <td>Williams</td>\n",
       "      <td>F</td>\n",
       "      <td>3638 Marsh Union</td>\n",
       "      <td>...</td>\n",
       "      <td>40.3207</td>\n",
       "      <td>-110.4360</td>\n",
       "      <td>302</td>\n",
       "      <td>Sales professional, IT</td>\n",
       "      <td>1990-01-17</td>\n",
       "      <td>324cc204407e99f51b0d6ca0055005e7</td>\n",
       "      <td>1371816873</td>\n",
       "      <td>39.450498</td>\n",
       "      <td>-109.960431</td>\n",
       "      <td>0</td>\n",
       "    </tr>\n",
       "    <tr>\n",
       "      <th>2</th>\n",
       "      <td>2</td>\n",
       "      <td>2020-06-21 12:14:53</td>\n",
       "      <td>3598215285024754</td>\n",
       "      <td>fraud_Swaniawski, Nitzsche and Welch</td>\n",
       "      <td>health_fitness</td>\n",
       "      <td>41.28</td>\n",
       "      <td>Ashley</td>\n",
       "      <td>Lopez</td>\n",
       "      <td>F</td>\n",
       "      <td>9333 Valentine Point</td>\n",
       "      <td>...</td>\n",
       "      <td>40.6729</td>\n",
       "      <td>-73.5365</td>\n",
       "      <td>34496</td>\n",
       "      <td>Librarian, public</td>\n",
       "      <td>1970-10-21</td>\n",
       "      <td>c81755dbbbea9d5c77f094348a7579be</td>\n",
       "      <td>1371816893</td>\n",
       "      <td>40.495810</td>\n",
       "      <td>-74.196111</td>\n",
       "      <td>0</td>\n",
       "    </tr>\n",
       "    <tr>\n",
       "      <th>3</th>\n",
       "      <td>3</td>\n",
       "      <td>2020-06-21 12:15:15</td>\n",
       "      <td>3591919803438423</td>\n",
       "      <td>fraud_Haley Group</td>\n",
       "      <td>misc_pos</td>\n",
       "      <td>60.05</td>\n",
       "      <td>Brian</td>\n",
       "      <td>Williams</td>\n",
       "      <td>M</td>\n",
       "      <td>32941 Krystal Mill Apt. 552</td>\n",
       "      <td>...</td>\n",
       "      <td>28.5697</td>\n",
       "      <td>-80.8191</td>\n",
       "      <td>54767</td>\n",
       "      <td>Set designer</td>\n",
       "      <td>1987-07-25</td>\n",
       "      <td>2159175b9efe66dc301f149d3d5abf8c</td>\n",
       "      <td>1371816915</td>\n",
       "      <td>28.812398</td>\n",
       "      <td>-80.883061</td>\n",
       "      <td>0</td>\n",
       "    </tr>\n",
       "    <tr>\n",
       "      <th>4</th>\n",
       "      <td>4</td>\n",
       "      <td>2020-06-21 12:15:17</td>\n",
       "      <td>3526826139003047</td>\n",
       "      <td>fraud_Johnston-Casper</td>\n",
       "      <td>travel</td>\n",
       "      <td>3.19</td>\n",
       "      <td>Nathan</td>\n",
       "      <td>Massey</td>\n",
       "      <td>M</td>\n",
       "      <td>5783 Evan Roads Apt. 465</td>\n",
       "      <td>...</td>\n",
       "      <td>44.2529</td>\n",
       "      <td>-85.0170</td>\n",
       "      <td>1126</td>\n",
       "      <td>Furniture designer</td>\n",
       "      <td>1955-07-06</td>\n",
       "      <td>57ff021bd3f328f8738bb535c302a31b</td>\n",
       "      <td>1371816917</td>\n",
       "      <td>44.959148</td>\n",
       "      <td>-85.884734</td>\n",
       "      <td>0</td>\n",
       "    </tr>\n",
       "  </tbody>\n",
       "</table>\n",
       "<p>5 rows × 23 columns</p>\n",
       "</div>"
      ],
      "text/plain": [
       "   Unnamed: 0 trans_date_trans_time            cc_num  \\\n",
       "0           0   2020-06-21 12:14:25  2291163933867244   \n",
       "1           1   2020-06-21 12:14:33  3573030041201292   \n",
       "2           2   2020-06-21 12:14:53  3598215285024754   \n",
       "3           3   2020-06-21 12:15:15  3591919803438423   \n",
       "4           4   2020-06-21 12:15:17  3526826139003047   \n",
       "\n",
       "                               merchant        category    amt   first  \\\n",
       "0                 fraud_Kirlin and Sons   personal_care   2.86    Jeff   \n",
       "1                  fraud_Sporer-Keebler   personal_care  29.84  Joanne   \n",
       "2  fraud_Swaniawski, Nitzsche and Welch  health_fitness  41.28  Ashley   \n",
       "3                     fraud_Haley Group        misc_pos  60.05   Brian   \n",
       "4                 fraud_Johnston-Casper          travel   3.19  Nathan   \n",
       "\n",
       "       last gender                       street  ...      lat      long  \\\n",
       "0   Elliott      M            351 Darlene Green  ...  33.9659  -80.9355   \n",
       "1  Williams      F             3638 Marsh Union  ...  40.3207 -110.4360   \n",
       "2     Lopez      F         9333 Valentine Point  ...  40.6729  -73.5365   \n",
       "3  Williams      M  32941 Krystal Mill Apt. 552  ...  28.5697  -80.8191   \n",
       "4    Massey      M     5783 Evan Roads Apt. 465  ...  44.2529  -85.0170   \n",
       "\n",
       "   city_pop                     job         dob  \\\n",
       "0    333497     Mechanical engineer  1968-03-19   \n",
       "1       302  Sales professional, IT  1990-01-17   \n",
       "2     34496       Librarian, public  1970-10-21   \n",
       "3     54767            Set designer  1987-07-25   \n",
       "4      1126      Furniture designer  1955-07-06   \n",
       "\n",
       "                          trans_num   unix_time  merch_lat  merch_long  \\\n",
       "0  2da90c7d74bd46a0caf3777415b3ebd3  1371816865  33.986391  -81.200714   \n",
       "1  324cc204407e99f51b0d6ca0055005e7  1371816873  39.450498 -109.960431   \n",
       "2  c81755dbbbea9d5c77f094348a7579be  1371816893  40.495810  -74.196111   \n",
       "3  2159175b9efe66dc301f149d3d5abf8c  1371816915  28.812398  -80.883061   \n",
       "4  57ff021bd3f328f8738bb535c302a31b  1371816917  44.959148  -85.884734   \n",
       "\n",
       "   is_fraud  \n",
       "0         0  \n",
       "1         0  \n",
       "2         0  \n",
       "3         0  \n",
       "4         0  \n",
       "\n",
       "[5 rows x 23 columns]"
      ]
     },
     "execution_count": 3,
     "metadata": {},
     "output_type": "execute_result"
    }
   ],
   "source": [
    "creditcard_data.head()"
   ]
  },
  {
   "cell_type": "markdown",
   "id": "8baf6c68",
   "metadata": {},
   "source": [
    "#LAST 5 ROWS OF THE DATASET USING tail() METHOD"
   ]
  },
  {
   "cell_type": "code",
   "execution_count": 4,
   "id": "f5f91775",
   "metadata": {},
   "outputs": [
    {
     "data": {
      "text/html": [
       "<div>\n",
       "<style scoped>\n",
       "    .dataframe tbody tr th:only-of-type {\n",
       "        vertical-align: middle;\n",
       "    }\n",
       "\n",
       "    .dataframe tbody tr th {\n",
       "        vertical-align: top;\n",
       "    }\n",
       "\n",
       "    .dataframe thead th {\n",
       "        text-align: right;\n",
       "    }\n",
       "</style>\n",
       "<table border=\"1\" class=\"dataframe\">\n",
       "  <thead>\n",
       "    <tr style=\"text-align: right;\">\n",
       "      <th></th>\n",
       "      <th>Unnamed: 0</th>\n",
       "      <th>trans_date_trans_time</th>\n",
       "      <th>cc_num</th>\n",
       "      <th>merchant</th>\n",
       "      <th>category</th>\n",
       "      <th>amt</th>\n",
       "      <th>first</th>\n",
       "      <th>last</th>\n",
       "      <th>gender</th>\n",
       "      <th>street</th>\n",
       "      <th>...</th>\n",
       "      <th>lat</th>\n",
       "      <th>long</th>\n",
       "      <th>city_pop</th>\n",
       "      <th>job</th>\n",
       "      <th>dob</th>\n",
       "      <th>trans_num</th>\n",
       "      <th>unix_time</th>\n",
       "      <th>merch_lat</th>\n",
       "      <th>merch_long</th>\n",
       "      <th>is_fraud</th>\n",
       "    </tr>\n",
       "  </thead>\n",
       "  <tbody>\n",
       "    <tr>\n",
       "      <th>555714</th>\n",
       "      <td>555714</td>\n",
       "      <td>2020-12-31 23:59:07</td>\n",
       "      <td>30560609640617</td>\n",
       "      <td>fraud_Reilly and Sons</td>\n",
       "      <td>health_fitness</td>\n",
       "      <td>43.77</td>\n",
       "      <td>Michael</td>\n",
       "      <td>Olson</td>\n",
       "      <td>M</td>\n",
       "      <td>558 Michael Estates</td>\n",
       "      <td>...</td>\n",
       "      <td>40.4931</td>\n",
       "      <td>-91.8912</td>\n",
       "      <td>519</td>\n",
       "      <td>Town planner</td>\n",
       "      <td>1966-02-13</td>\n",
       "      <td>9b1f753c79894c9f4b71f04581835ada</td>\n",
       "      <td>1388534347</td>\n",
       "      <td>39.946837</td>\n",
       "      <td>-91.333331</td>\n",
       "      <td>0</td>\n",
       "    </tr>\n",
       "    <tr>\n",
       "      <th>555715</th>\n",
       "      <td>555715</td>\n",
       "      <td>2020-12-31 23:59:09</td>\n",
       "      <td>3556613125071656</td>\n",
       "      <td>fraud_Hoppe-Parisian</td>\n",
       "      <td>kids_pets</td>\n",
       "      <td>111.84</td>\n",
       "      <td>Jose</td>\n",
       "      <td>Vasquez</td>\n",
       "      <td>M</td>\n",
       "      <td>572 Davis Mountains</td>\n",
       "      <td>...</td>\n",
       "      <td>29.0393</td>\n",
       "      <td>-95.4401</td>\n",
       "      <td>28739</td>\n",
       "      <td>Futures trader</td>\n",
       "      <td>1999-12-27</td>\n",
       "      <td>2090647dac2c89a1d86c514c427f5b91</td>\n",
       "      <td>1388534349</td>\n",
       "      <td>29.661049</td>\n",
       "      <td>-96.186633</td>\n",
       "      <td>0</td>\n",
       "    </tr>\n",
       "    <tr>\n",
       "      <th>555716</th>\n",
       "      <td>555716</td>\n",
       "      <td>2020-12-31 23:59:15</td>\n",
       "      <td>6011724471098086</td>\n",
       "      <td>fraud_Rau-Robel</td>\n",
       "      <td>kids_pets</td>\n",
       "      <td>86.88</td>\n",
       "      <td>Ann</td>\n",
       "      <td>Lawson</td>\n",
       "      <td>F</td>\n",
       "      <td>144 Evans Islands Apt. 683</td>\n",
       "      <td>...</td>\n",
       "      <td>46.1966</td>\n",
       "      <td>-118.9017</td>\n",
       "      <td>3684</td>\n",
       "      <td>Musician</td>\n",
       "      <td>1981-11-29</td>\n",
       "      <td>6c5b7c8add471975aa0fec023b2e8408</td>\n",
       "      <td>1388534355</td>\n",
       "      <td>46.658340</td>\n",
       "      <td>-119.715054</td>\n",
       "      <td>0</td>\n",
       "    </tr>\n",
       "    <tr>\n",
       "      <th>555717</th>\n",
       "      <td>555717</td>\n",
       "      <td>2020-12-31 23:59:24</td>\n",
       "      <td>4079773899158</td>\n",
       "      <td>fraud_Breitenberg LLC</td>\n",
       "      <td>travel</td>\n",
       "      <td>7.99</td>\n",
       "      <td>Eric</td>\n",
       "      <td>Preston</td>\n",
       "      <td>M</td>\n",
       "      <td>7020 Doyle Stream Apt. 951</td>\n",
       "      <td>...</td>\n",
       "      <td>44.6255</td>\n",
       "      <td>-116.4493</td>\n",
       "      <td>129</td>\n",
       "      <td>Cartographer</td>\n",
       "      <td>1965-12-15</td>\n",
       "      <td>14392d723bb7737606b2700ac791b7aa</td>\n",
       "      <td>1388534364</td>\n",
       "      <td>44.470525</td>\n",
       "      <td>-117.080888</td>\n",
       "      <td>0</td>\n",
       "    </tr>\n",
       "    <tr>\n",
       "      <th>555718</th>\n",
       "      <td>555718</td>\n",
       "      <td>2020-12-31 23:59:34</td>\n",
       "      <td>4170689372027579</td>\n",
       "      <td>fraud_Dare-Marvin</td>\n",
       "      <td>entertainment</td>\n",
       "      <td>38.13</td>\n",
       "      <td>Samuel</td>\n",
       "      <td>Frey</td>\n",
       "      <td>M</td>\n",
       "      <td>830 Myers Plaza Apt. 384</td>\n",
       "      <td>...</td>\n",
       "      <td>35.6665</td>\n",
       "      <td>-97.4798</td>\n",
       "      <td>116001</td>\n",
       "      <td>Media buyer</td>\n",
       "      <td>1993-05-10</td>\n",
       "      <td>1765bb45b3aa3224b4cdcb6e7a96cee3</td>\n",
       "      <td>1388534374</td>\n",
       "      <td>36.210097</td>\n",
       "      <td>-97.036372</td>\n",
       "      <td>0</td>\n",
       "    </tr>\n",
       "  </tbody>\n",
       "</table>\n",
       "<p>5 rows × 23 columns</p>\n",
       "</div>"
      ],
      "text/plain": [
       "        Unnamed: 0 trans_date_trans_time            cc_num  \\\n",
       "555714      555714   2020-12-31 23:59:07    30560609640617   \n",
       "555715      555715   2020-12-31 23:59:09  3556613125071656   \n",
       "555716      555716   2020-12-31 23:59:15  6011724471098086   \n",
       "555717      555717   2020-12-31 23:59:24     4079773899158   \n",
       "555718      555718   2020-12-31 23:59:34  4170689372027579   \n",
       "\n",
       "                     merchant        category     amt    first     last  \\\n",
       "555714  fraud_Reilly and Sons  health_fitness   43.77  Michael    Olson   \n",
       "555715   fraud_Hoppe-Parisian       kids_pets  111.84     Jose  Vasquez   \n",
       "555716        fraud_Rau-Robel       kids_pets   86.88      Ann   Lawson   \n",
       "555717  fraud_Breitenberg LLC          travel    7.99     Eric  Preston   \n",
       "555718      fraud_Dare-Marvin   entertainment   38.13   Samuel     Frey   \n",
       "\n",
       "       gender                      street  ...      lat      long  city_pop  \\\n",
       "555714      M         558 Michael Estates  ...  40.4931  -91.8912       519   \n",
       "555715      M         572 Davis Mountains  ...  29.0393  -95.4401     28739   \n",
       "555716      F  144 Evans Islands Apt. 683  ...  46.1966 -118.9017      3684   \n",
       "555717      M  7020 Doyle Stream Apt. 951  ...  44.6255 -116.4493       129   \n",
       "555718      M    830 Myers Plaza Apt. 384  ...  35.6665  -97.4798    116001   \n",
       "\n",
       "                   job         dob                         trans_num  \\\n",
       "555714    Town planner  1966-02-13  9b1f753c79894c9f4b71f04581835ada   \n",
       "555715  Futures trader  1999-12-27  2090647dac2c89a1d86c514c427f5b91   \n",
       "555716        Musician  1981-11-29  6c5b7c8add471975aa0fec023b2e8408   \n",
       "555717    Cartographer  1965-12-15  14392d723bb7737606b2700ac791b7aa   \n",
       "555718     Media buyer  1993-05-10  1765bb45b3aa3224b4cdcb6e7a96cee3   \n",
       "\n",
       "         unix_time  merch_lat  merch_long  is_fraud  \n",
       "555714  1388534347  39.946837  -91.333331         0  \n",
       "555715  1388534349  29.661049  -96.186633         0  \n",
       "555716  1388534355  46.658340 -119.715054         0  \n",
       "555717  1388534364  44.470525 -117.080888         0  \n",
       "555718  1388534374  36.210097  -97.036372         0  \n",
       "\n",
       "[5 rows x 23 columns]"
      ]
     },
     "execution_count": 4,
     "metadata": {},
     "output_type": "execute_result"
    }
   ],
   "source": [
    "creditcard_data.tail()"
   ]
  },
  {
   "cell_type": "markdown",
   "id": "1b75cf05",
   "metadata": {},
   "source": [
    "#DATASET INFORMATION USING info() METHOD"
   ]
  },
  {
   "cell_type": "code",
   "execution_count": 5,
   "id": "75db33b8",
   "metadata": {},
   "outputs": [
    {
     "name": "stdout",
     "output_type": "stream",
     "text": [
      "<class 'pandas.core.frame.DataFrame'>\n",
      "RangeIndex: 555719 entries, 0 to 555718\n",
      "Data columns (total 23 columns):\n",
      " #   Column                 Non-Null Count   Dtype  \n",
      "---  ------                 --------------   -----  \n",
      " 0   Unnamed: 0             555719 non-null  int64  \n",
      " 1   trans_date_trans_time  555719 non-null  object \n",
      " 2   cc_num                 555719 non-null  int64  \n",
      " 3   merchant               555719 non-null  object \n",
      " 4   category               555719 non-null  object \n",
      " 5   amt                    555719 non-null  float64\n",
      " 6   first                  555719 non-null  object \n",
      " 7   last                   555719 non-null  object \n",
      " 8   gender                 555719 non-null  object \n",
      " 9   street                 555719 non-null  object \n",
      " 10  city                   555719 non-null  object \n",
      " 11  state                  555719 non-null  object \n",
      " 12  zip                    555719 non-null  int64  \n",
      " 13  lat                    555719 non-null  float64\n",
      " 14  long                   555719 non-null  float64\n",
      " 15  city_pop               555719 non-null  int64  \n",
      " 16  job                    555719 non-null  object \n",
      " 17  dob                    555719 non-null  object \n",
      " 18  trans_num              555719 non-null  object \n",
      " 19  unix_time              555719 non-null  int64  \n",
      " 20  merch_lat              555719 non-null  float64\n",
      " 21  merch_long             555719 non-null  float64\n",
      " 22  is_fraud               555719 non-null  int64  \n",
      "dtypes: float64(5), int64(6), object(12)\n",
      "memory usage: 97.5+ MB\n"
     ]
    }
   ],
   "source": [
    "creditcard_data.info()"
   ]
  },
  {
   "cell_type": "markdown",
   "id": "5ff10277",
   "metadata": {},
   "source": [
    "#CHECKING THE NUMBER OF MISSING VALUES IN EACH COLUMN"
   ]
  },
  {
   "cell_type": "code",
   "execution_count": 6,
   "id": "97e22e70",
   "metadata": {},
   "outputs": [
    {
     "data": {
      "text/plain": [
       "Unnamed: 0               0\n",
       "trans_date_trans_time    0\n",
       "cc_num                   0\n",
       "merchant                 0\n",
       "category                 0\n",
       "amt                      0\n",
       "first                    0\n",
       "last                     0\n",
       "gender                   0\n",
       "street                   0\n",
       "city                     0\n",
       "state                    0\n",
       "zip                      0\n",
       "lat                      0\n",
       "long                     0\n",
       "city_pop                 0\n",
       "job                      0\n",
       "dob                      0\n",
       "trans_num                0\n",
       "unix_time                0\n",
       "merch_lat                0\n",
       "merch_long               0\n",
       "is_fraud                 0\n",
       "dtype: int64"
      ]
     },
     "execution_count": 6,
     "metadata": {},
     "output_type": "execute_result"
    }
   ],
   "source": [
    "creditcard_data.isnull().sum()"
   ]
  },
  {
   "cell_type": "markdown",
   "id": "00ee18a3",
   "metadata": {},
   "source": [
    "#CHECKING THE DISTRIBUTION OF FRAUDULENT TRANSACTIONS AND LEGIT TRANSACTIONS"
   ]
  },
  {
   "cell_type": "code",
   "execution_count": 7,
   "id": "10e932f1",
   "metadata": {},
   "outputs": [
    {
     "data": {
      "text/plain": [
       "0    553574\n",
       "1      2145\n",
       "Name: is_fraud, dtype: int64"
      ]
     },
     "execution_count": 7,
     "metadata": {},
     "output_type": "execute_result"
    }
   ],
   "source": [
    "creditcard_data['is_fraud'].value_counts()"
   ]
  },
  {
   "cell_type": "markdown",
   "id": "d02d5b27",
   "metadata": {},
   "source": [
    "THIS DATASET IS HIGHLY UNBALANCED\n",
    "0-->REPRESENTS LEGIT TRANSACTIONS\n",
    "1-->REPRESENTS FRAUDULENT TRANSACTIONS"
   ]
  },
  {
   "cell_type": "code",
   "execution_count": 8,
   "id": "d14dbbee",
   "metadata": {},
   "outputs": [],
   "source": [
    "# Drop the 'Time' column\n",
    "creditcard_data=creditcard_data.drop(['trans_date_trans_time'], axis=1)"
   ]
  },
  {
   "cell_type": "code",
   "execution_count": 9,
   "id": "8ef9e6a7",
   "metadata": {},
   "outputs": [],
   "source": [
    "#seperating the data as legit and fraudulant transactions for analysis\n",
    "legit_transactions=creditcard_data[creditcard_data.is_fraud==0]\n",
    "fraudulant_transactions=creditcard_data[creditcard_data.is_fraud==1]"
   ]
  },
  {
   "cell_type": "code",
   "execution_count": 10,
   "id": "23150a6a",
   "metadata": {},
   "outputs": [
    {
     "name": "stdout",
     "output_type": "stream",
     "text": [
      "(553574, 22)\n",
      "(2145, 22)\n"
     ]
    }
   ],
   "source": [
    "#printing the shape of the legit and fraudulant transactions\n",
    "print(legit_transactions.shape)\n",
    "print(fraudulant_transactions.shape)"
   ]
  },
  {
   "cell_type": "code",
   "execution_count": 11,
   "id": "5ed51e29",
   "metadata": {},
   "outputs": [
    {
     "data": {
      "text/plain": [
       "count    553574.000000\n",
       "mean         67.614408\n",
       "std         152.471931\n",
       "min           1.000000\n",
       "25%           9.600000\n",
       "50%          47.150000\n",
       "75%          82.620000\n",
       "max       22768.110000\n",
       "Name: amt, dtype: float64"
      ]
     },
     "execution_count": 11,
     "metadata": {},
     "output_type": "execute_result"
    }
   ],
   "source": [
    "#statistical measure of the data\n",
    "legit_transactions.amt.describe()"
   ]
  },
  {
   "cell_type": "code",
   "execution_count": 12,
   "id": "ccfb3f14",
   "metadata": {},
   "outputs": [
    {
     "data": {
      "text/plain": [
       "count    2145.000000\n",
       "mean      528.356494\n",
       "std       392.747594\n",
       "min         1.780000\n",
       "25%       214.510000\n",
       "50%       371.940000\n",
       "75%       907.770000\n",
       "max      1320.920000\n",
       "Name: amt, dtype: float64"
      ]
     },
     "execution_count": 12,
     "metadata": {},
     "output_type": "execute_result"
    }
   ],
   "source": [
    "fraudulant_transactions.amt.describe()"
   ]
  },
  {
   "cell_type": "code",
   "execution_count": 13,
   "id": "a4e449cd",
   "metadata": {},
   "outputs": [
    {
     "name": "stderr",
     "output_type": "stream",
     "text": [
      "C:\\Users\\HP\\AppData\\Local\\Temp\\ipykernel_12740\\3310836943.py:2: FutureWarning: The default value of numeric_only in DataFrameGroupBy.mean is deprecated. In a future version, numeric_only will default to False. Either specify numeric_only or select only columns which should be valid for the function.\n",
      "  creditcard_data.groupby('is_fraud').mean()\n"
     ]
    },
    {
     "data": {
      "text/html": [
       "<div>\n",
       "<style scoped>\n",
       "    .dataframe tbody tr th:only-of-type {\n",
       "        vertical-align: middle;\n",
       "    }\n",
       "\n",
       "    .dataframe tbody tr th {\n",
       "        vertical-align: top;\n",
       "    }\n",
       "\n",
       "    .dataframe thead th {\n",
       "        text-align: right;\n",
       "    }\n",
       "</style>\n",
       "<table border=\"1\" class=\"dataframe\">\n",
       "  <thead>\n",
       "    <tr style=\"text-align: right;\">\n",
       "      <th></th>\n",
       "      <th>Unnamed: 0</th>\n",
       "      <th>cc_num</th>\n",
       "      <th>amt</th>\n",
       "      <th>zip</th>\n",
       "      <th>lat</th>\n",
       "      <th>long</th>\n",
       "      <th>city_pop</th>\n",
       "      <th>unix_time</th>\n",
       "      <th>merch_lat</th>\n",
       "      <th>merch_long</th>\n",
       "    </tr>\n",
       "    <tr>\n",
       "      <th>is_fraud</th>\n",
       "      <th></th>\n",
       "      <th></th>\n",
       "      <th></th>\n",
       "      <th></th>\n",
       "      <th></th>\n",
       "      <th></th>\n",
       "      <th></th>\n",
       "      <th></th>\n",
       "      <th></th>\n",
       "      <th></th>\n",
       "    </tr>\n",
       "  </thead>\n",
       "  <tbody>\n",
       "    <tr>\n",
       "      <th>0</th>\n",
       "      <td>277997.725990</td>\n",
       "      <td>4.179643e+17</td>\n",
       "      <td>67.614408</td>\n",
       "      <td>48846.424285</td>\n",
       "      <td>38.541406</td>\n",
       "      <td>-90.230495</td>\n",
       "      <td>88313.692365</td>\n",
       "      <td>1.380683e+09</td>\n",
       "      <td>38.540954</td>\n",
       "      <td>-90.230474</td>\n",
       "    </tr>\n",
       "    <tr>\n",
       "      <th>1</th>\n",
       "      <td>242057.088112</td>\n",
       "      <td>3.854274e+17</td>\n",
       "      <td>528.356494</td>\n",
       "      <td>47862.900233</td>\n",
       "      <td>39.019971</td>\n",
       "      <td>-90.445556</td>\n",
       "      <td>64529.321678</td>\n",
       "      <td>1.379587e+09</td>\n",
       "      <td>39.018618</td>\n",
       "      <td>-90.465222</td>\n",
       "    </tr>\n",
       "  </tbody>\n",
       "</table>\n",
       "</div>"
      ],
      "text/plain": [
       "             Unnamed: 0        cc_num         amt           zip        lat  \\\n",
       "is_fraud                                                                     \n",
       "0         277997.725990  4.179643e+17   67.614408  48846.424285  38.541406   \n",
       "1         242057.088112  3.854274e+17  528.356494  47862.900233  39.019971   \n",
       "\n",
       "               long      city_pop     unix_time  merch_lat  merch_long  \n",
       "is_fraud                                                                \n",
       "0        -90.230495  88313.692365  1.380683e+09  38.540954  -90.230474  \n",
       "1        -90.445556  64529.321678  1.379587e+09  39.018618  -90.465222  "
      ]
     },
     "execution_count": 13,
     "metadata": {},
     "output_type": "execute_result"
    }
   ],
   "source": [
    "#comparee the values for both legit and fraudulant transactions\n",
    "creditcard_data.groupby('is_fraud').mean()"
   ]
  },
  {
   "cell_type": "markdown",
   "id": "f328a8df",
   "metadata": {},
   "source": [
    "UNDER SAMPLING\n",
    "\n",
    "BUILDING THE SAMPLE DATASET CONTAINING SIMILAR DISTRIBUTION OF LEGIT AND FRAUDULANT TRANSACTIONS\n",
    "\n",
    "NUMBER OF FRAUDULANT TRNSACTIONS ARE=2145"
   ]
  },
  {
   "cell_type": "code",
   "execution_count": 14,
   "id": "ccf27233",
   "metadata": {},
   "outputs": [],
   "source": [
    "legit_transactions_sample=legit_transactions.sample(n=2145)"
   ]
  },
  {
   "cell_type": "markdown",
   "id": "bf0eada1",
   "metadata": {},
   "source": [
    "CONCATENATING THE TWO DATAFRAMES"
   ]
  },
  {
   "cell_type": "code",
   "execution_count": 15,
   "id": "5e708b26",
   "metadata": {},
   "outputs": [],
   "source": [
    "new_credit_data=pd.concat([legit_transactions_sample,fraudulant_transactions],axis=0)"
   ]
  },
  {
   "cell_type": "code",
   "execution_count": 16,
   "id": "7f96e731",
   "metadata": {},
   "outputs": [
    {
     "data": {
      "text/html": [
       "<div>\n",
       "<style scoped>\n",
       "    .dataframe tbody tr th:only-of-type {\n",
       "        vertical-align: middle;\n",
       "    }\n",
       "\n",
       "    .dataframe tbody tr th {\n",
       "        vertical-align: top;\n",
       "    }\n",
       "\n",
       "    .dataframe thead th {\n",
       "        text-align: right;\n",
       "    }\n",
       "</style>\n",
       "<table border=\"1\" class=\"dataframe\">\n",
       "  <thead>\n",
       "    <tr style=\"text-align: right;\">\n",
       "      <th></th>\n",
       "      <th>Unnamed: 0</th>\n",
       "      <th>cc_num</th>\n",
       "      <th>merchant</th>\n",
       "      <th>category</th>\n",
       "      <th>amt</th>\n",
       "      <th>first</th>\n",
       "      <th>last</th>\n",
       "      <th>gender</th>\n",
       "      <th>street</th>\n",
       "      <th>city</th>\n",
       "      <th>...</th>\n",
       "      <th>lat</th>\n",
       "      <th>long</th>\n",
       "      <th>city_pop</th>\n",
       "      <th>job</th>\n",
       "      <th>dob</th>\n",
       "      <th>trans_num</th>\n",
       "      <th>unix_time</th>\n",
       "      <th>merch_lat</th>\n",
       "      <th>merch_long</th>\n",
       "      <th>is_fraud</th>\n",
       "    </tr>\n",
       "  </thead>\n",
       "  <tbody>\n",
       "    <tr>\n",
       "      <th>4509</th>\n",
       "      <td>4509</td>\n",
       "      <td>2269768987945882</td>\n",
       "      <td>fraud_Larkin Ltd</td>\n",
       "      <td>kids_pets</td>\n",
       "      <td>10.62</td>\n",
       "      <td>Shannon</td>\n",
       "      <td>Patterson</td>\n",
       "      <td>F</td>\n",
       "      <td>9808 Ellis Bypass</td>\n",
       "      <td>Mount Morris</td>\n",
       "      <td>...</td>\n",
       "      <td>42.6835</td>\n",
       "      <td>-77.8664</td>\n",
       "      <td>4895</td>\n",
       "      <td>Acupuncturist</td>\n",
       "      <td>1958-10-29</td>\n",
       "      <td>141142fbd597c5cfa150081bfa532941</td>\n",
       "      <td>1371917930</td>\n",
       "      <td>42.680736</td>\n",
       "      <td>-77.111898</td>\n",
       "      <td>0</td>\n",
       "    </tr>\n",
       "    <tr>\n",
       "      <th>482553</th>\n",
       "      <td>482553</td>\n",
       "      <td>2720894374956739</td>\n",
       "      <td>fraud_Kunze, Larkin and Mayert</td>\n",
       "      <td>travel</td>\n",
       "      <td>5.05</td>\n",
       "      <td>Audrey</td>\n",
       "      <td>Hickman</td>\n",
       "      <td>F</td>\n",
       "      <td>3325 Gregory Square</td>\n",
       "      <td>Mount Clemens</td>\n",
       "      <td>...</td>\n",
       "      <td>42.5978</td>\n",
       "      <td>-82.8823</td>\n",
       "      <td>16305</td>\n",
       "      <td>Psychologist, sport and exercise</td>\n",
       "      <td>1927-05-25</td>\n",
       "      <td>a5f07860d4d401c07dc450fdb7aa0f05</td>\n",
       "      <td>1387113172</td>\n",
       "      <td>41.885393</td>\n",
       "      <td>-83.874640</td>\n",
       "      <td>0</td>\n",
       "    </tr>\n",
       "    <tr>\n",
       "      <th>472155</th>\n",
       "      <td>472155</td>\n",
       "      <td>30273037698427</td>\n",
       "      <td>fraud_Bauch-Blanda</td>\n",
       "      <td>entertainment</td>\n",
       "      <td>62.21</td>\n",
       "      <td>Andrew</td>\n",
       "      <td>Patterson</td>\n",
       "      <td>M</td>\n",
       "      <td>06959 Stephen Branch Suite 246</td>\n",
       "      <td>Thida</td>\n",
       "      <td>...</td>\n",
       "      <td>35.5762</td>\n",
       "      <td>-91.4539</td>\n",
       "      <td>111</td>\n",
       "      <td>Careers information officer</td>\n",
       "      <td>2000-06-13</td>\n",
       "      <td>e65580041d11e073ae315eab5484158f</td>\n",
       "      <td>1386962141</td>\n",
       "      <td>36.330748</td>\n",
       "      <td>-91.096043</td>\n",
       "      <td>0</td>\n",
       "    </tr>\n",
       "    <tr>\n",
       "      <th>83051</th>\n",
       "      <td>83051</td>\n",
       "      <td>4449530933957323</td>\n",
       "      <td>fraud_Johnson, Runolfsdottir and Mayer</td>\n",
       "      <td>misc_net</td>\n",
       "      <td>164.05</td>\n",
       "      <td>Felicia</td>\n",
       "      <td>Mckee</td>\n",
       "      <td>F</td>\n",
       "      <td>84079 Thomas Burgs</td>\n",
       "      <td>Tomales</td>\n",
       "      <td>...</td>\n",
       "      <td>38.2427</td>\n",
       "      <td>-122.9145</td>\n",
       "      <td>337</td>\n",
       "      <td>Occupational psychologist</td>\n",
       "      <td>1954-07-05</td>\n",
       "      <td>4d59b37780d3a11949d0fc4113110acb</td>\n",
       "      <td>1374308362</td>\n",
       "      <td>37.622148</td>\n",
       "      <td>-122.299136</td>\n",
       "      <td>0</td>\n",
       "    </tr>\n",
       "    <tr>\n",
       "      <th>170098</th>\n",
       "      <td>170098</td>\n",
       "      <td>343464013864032</td>\n",
       "      <td>fraud_Champlin and Sons</td>\n",
       "      <td>home</td>\n",
       "      <td>170.52</td>\n",
       "      <td>Jodi</td>\n",
       "      <td>Foster</td>\n",
       "      <td>F</td>\n",
       "      <td>551 Zachary Freeway</td>\n",
       "      <td>Bailey</td>\n",
       "      <td>...</td>\n",
       "      <td>35.8072</td>\n",
       "      <td>-78.0892</td>\n",
       "      <td>6629</td>\n",
       "      <td>Call centre manager</td>\n",
       "      <td>1962-08-13</td>\n",
       "      <td>c4ea8233a439063bccbd0976f4777273</td>\n",
       "      <td>1376927119</td>\n",
       "      <td>36.301606</td>\n",
       "      <td>-77.716004</td>\n",
       "      <td>0</td>\n",
       "    </tr>\n",
       "  </tbody>\n",
       "</table>\n",
       "<p>5 rows × 22 columns</p>\n",
       "</div>"
      ],
      "text/plain": [
       "        Unnamed: 0            cc_num                                merchant  \\\n",
       "4509          4509  2269768987945882                        fraud_Larkin Ltd   \n",
       "482553      482553  2720894374956739          fraud_Kunze, Larkin and Mayert   \n",
       "472155      472155    30273037698427                      fraud_Bauch-Blanda   \n",
       "83051        83051  4449530933957323  fraud_Johnson, Runolfsdottir and Mayer   \n",
       "170098      170098   343464013864032                 fraud_Champlin and Sons   \n",
       "\n",
       "             category     amt    first       last gender  \\\n",
       "4509        kids_pets   10.62  Shannon  Patterson      F   \n",
       "482553         travel    5.05   Audrey    Hickman      F   \n",
       "472155  entertainment   62.21   Andrew  Patterson      M   \n",
       "83051        misc_net  164.05  Felicia      Mckee      F   \n",
       "170098           home  170.52     Jodi     Foster      F   \n",
       "\n",
       "                                street           city  ...      lat      long  \\\n",
       "4509                 9808 Ellis Bypass   Mount Morris  ...  42.6835  -77.8664   \n",
       "482553             3325 Gregory Square  Mount Clemens  ...  42.5978  -82.8823   \n",
       "472155  06959 Stephen Branch Suite 246          Thida  ...  35.5762  -91.4539   \n",
       "83051               84079 Thomas Burgs        Tomales  ...  38.2427 -122.9145   \n",
       "170098             551 Zachary Freeway         Bailey  ...  35.8072  -78.0892   \n",
       "\n",
       "        city_pop                               job         dob  \\\n",
       "4509        4895                     Acupuncturist  1958-10-29   \n",
       "482553     16305  Psychologist, sport and exercise  1927-05-25   \n",
       "472155       111       Careers information officer  2000-06-13   \n",
       "83051        337         Occupational psychologist  1954-07-05   \n",
       "170098      6629               Call centre manager  1962-08-13   \n",
       "\n",
       "                               trans_num   unix_time  merch_lat  merch_long  \\\n",
       "4509    141142fbd597c5cfa150081bfa532941  1371917930  42.680736  -77.111898   \n",
       "482553  a5f07860d4d401c07dc450fdb7aa0f05  1387113172  41.885393  -83.874640   \n",
       "472155  e65580041d11e073ae315eab5484158f  1386962141  36.330748  -91.096043   \n",
       "83051   4d59b37780d3a11949d0fc4113110acb  1374308362  37.622148 -122.299136   \n",
       "170098  c4ea8233a439063bccbd0976f4777273  1376927119  36.301606  -77.716004   \n",
       "\n",
       "        is_fraud  \n",
       "4509           0  \n",
       "482553         0  \n",
       "472155         0  \n",
       "83051          0  \n",
       "170098         0  \n",
       "\n",
       "[5 rows x 22 columns]"
      ]
     },
     "execution_count": 16,
     "metadata": {},
     "output_type": "execute_result"
    }
   ],
   "source": [
    "new_credit_data.head()"
   ]
  },
  {
   "cell_type": "code",
   "execution_count": 17,
   "id": "1d8829e3",
   "metadata": {},
   "outputs": [
    {
     "data": {
      "text/html": [
       "<div>\n",
       "<style scoped>\n",
       "    .dataframe tbody tr th:only-of-type {\n",
       "        vertical-align: middle;\n",
       "    }\n",
       "\n",
       "    .dataframe tbody tr th {\n",
       "        vertical-align: top;\n",
       "    }\n",
       "\n",
       "    .dataframe thead th {\n",
       "        text-align: right;\n",
       "    }\n",
       "</style>\n",
       "<table border=\"1\" class=\"dataframe\">\n",
       "  <thead>\n",
       "    <tr style=\"text-align: right;\">\n",
       "      <th></th>\n",
       "      <th>Unnamed: 0</th>\n",
       "      <th>cc_num</th>\n",
       "      <th>merchant</th>\n",
       "      <th>category</th>\n",
       "      <th>amt</th>\n",
       "      <th>first</th>\n",
       "      <th>last</th>\n",
       "      <th>gender</th>\n",
       "      <th>street</th>\n",
       "      <th>city</th>\n",
       "      <th>...</th>\n",
       "      <th>lat</th>\n",
       "      <th>long</th>\n",
       "      <th>city_pop</th>\n",
       "      <th>job</th>\n",
       "      <th>dob</th>\n",
       "      <th>trans_num</th>\n",
       "      <th>unix_time</th>\n",
       "      <th>merch_lat</th>\n",
       "      <th>merch_long</th>\n",
       "      <th>is_fraud</th>\n",
       "    </tr>\n",
       "  </thead>\n",
       "  <tbody>\n",
       "    <tr>\n",
       "      <th>517197</th>\n",
       "      <td>517197</td>\n",
       "      <td>2242176657877538</td>\n",
       "      <td>fraud_Willms, Kris and Bergnaum</td>\n",
       "      <td>shopping_pos</td>\n",
       "      <td>1041.51</td>\n",
       "      <td>Travis</td>\n",
       "      <td>Daniel</td>\n",
       "      <td>M</td>\n",
       "      <td>1327 Rose Causeway Apt. 610</td>\n",
       "      <td>Senatobia</td>\n",
       "      <td>...</td>\n",
       "      <td>34.6323</td>\n",
       "      <td>-89.8855</td>\n",
       "      <td>14462</td>\n",
       "      <td>Database administrator</td>\n",
       "      <td>1959-03-03</td>\n",
       "      <td>35b0297dd026d2e9a75d024a5dec7955</td>\n",
       "      <td>1387749948</td>\n",
       "      <td>34.573471</td>\n",
       "      <td>-89.911011</td>\n",
       "      <td>1</td>\n",
       "    </tr>\n",
       "    <tr>\n",
       "      <th>517274</th>\n",
       "      <td>517274</td>\n",
       "      <td>2242176657877538</td>\n",
       "      <td>fraud_Kuhn LLC</td>\n",
       "      <td>shopping_pos</td>\n",
       "      <td>868.09</td>\n",
       "      <td>Travis</td>\n",
       "      <td>Daniel</td>\n",
       "      <td>M</td>\n",
       "      <td>1327 Rose Causeway Apt. 610</td>\n",
       "      <td>Senatobia</td>\n",
       "      <td>...</td>\n",
       "      <td>34.6323</td>\n",
       "      <td>-89.8855</td>\n",
       "      <td>14462</td>\n",
       "      <td>Database administrator</td>\n",
       "      <td>1959-03-03</td>\n",
       "      <td>da7f67d7375f10a054a3d919448c45dd</td>\n",
       "      <td>1387750687</td>\n",
       "      <td>34.091227</td>\n",
       "      <td>-90.390612</td>\n",
       "      <td>1</td>\n",
       "    </tr>\n",
       "    <tr>\n",
       "      <th>517341</th>\n",
       "      <td>517341</td>\n",
       "      <td>2242176657877538</td>\n",
       "      <td>fraud_Mosciski, Ziemann and Farrell</td>\n",
       "      <td>shopping_net</td>\n",
       "      <td>1039.42</td>\n",
       "      <td>Travis</td>\n",
       "      <td>Daniel</td>\n",
       "      <td>M</td>\n",
       "      <td>1327 Rose Causeway Apt. 610</td>\n",
       "      <td>Senatobia</td>\n",
       "      <td>...</td>\n",
       "      <td>34.6323</td>\n",
       "      <td>-89.8855</td>\n",
       "      <td>14462</td>\n",
       "      <td>Database administrator</td>\n",
       "      <td>1959-03-03</td>\n",
       "      <td>25b076c7bcd70f272c1c5326bb234f4b</td>\n",
       "      <td>1387751508</td>\n",
       "      <td>34.628434</td>\n",
       "      <td>-90.284780</td>\n",
       "      <td>1</td>\n",
       "    </tr>\n",
       "    <tr>\n",
       "      <th>517529</th>\n",
       "      <td>517529</td>\n",
       "      <td>2242176657877538</td>\n",
       "      <td>fraud_Bauch-Raynor</td>\n",
       "      <td>grocery_pos</td>\n",
       "      <td>289.27</td>\n",
       "      <td>Travis</td>\n",
       "      <td>Daniel</td>\n",
       "      <td>M</td>\n",
       "      <td>1327 Rose Causeway Apt. 610</td>\n",
       "      <td>Senatobia</td>\n",
       "      <td>...</td>\n",
       "      <td>34.6323</td>\n",
       "      <td>-89.8855</td>\n",
       "      <td>14462</td>\n",
       "      <td>Database administrator</td>\n",
       "      <td>1959-03-03</td>\n",
       "      <td>2df7d894868fbc99ec1d8b055585fc9d</td>\n",
       "      <td>1387753563</td>\n",
       "      <td>34.746063</td>\n",
       "      <td>-90.401093</td>\n",
       "      <td>1</td>\n",
       "    </tr>\n",
       "    <tr>\n",
       "      <th>517571</th>\n",
       "      <td>517571</td>\n",
       "      <td>2242176657877538</td>\n",
       "      <td>fraud_Jaskolski-Vandervort</td>\n",
       "      <td>misc_net</td>\n",
       "      <td>766.38</td>\n",
       "      <td>Travis</td>\n",
       "      <td>Daniel</td>\n",
       "      <td>M</td>\n",
       "      <td>1327 Rose Causeway Apt. 610</td>\n",
       "      <td>Senatobia</td>\n",
       "      <td>...</td>\n",
       "      <td>34.6323</td>\n",
       "      <td>-89.8855</td>\n",
       "      <td>14462</td>\n",
       "      <td>Database administrator</td>\n",
       "      <td>1959-03-03</td>\n",
       "      <td>44292cbc51e37dc018ee6a988a4bc426</td>\n",
       "      <td>1387754019</td>\n",
       "      <td>33.771462</td>\n",
       "      <td>-90.651342</td>\n",
       "      <td>1</td>\n",
       "    </tr>\n",
       "  </tbody>\n",
       "</table>\n",
       "<p>5 rows × 22 columns</p>\n",
       "</div>"
      ],
      "text/plain": [
       "        Unnamed: 0            cc_num                             merchant  \\\n",
       "517197      517197  2242176657877538      fraud_Willms, Kris and Bergnaum   \n",
       "517274      517274  2242176657877538                       fraud_Kuhn LLC   \n",
       "517341      517341  2242176657877538  fraud_Mosciski, Ziemann and Farrell   \n",
       "517529      517529  2242176657877538                   fraud_Bauch-Raynor   \n",
       "517571      517571  2242176657877538           fraud_Jaskolski-Vandervort   \n",
       "\n",
       "            category      amt   first    last gender  \\\n",
       "517197  shopping_pos  1041.51  Travis  Daniel      M   \n",
       "517274  shopping_pos   868.09  Travis  Daniel      M   \n",
       "517341  shopping_net  1039.42  Travis  Daniel      M   \n",
       "517529   grocery_pos   289.27  Travis  Daniel      M   \n",
       "517571      misc_net   766.38  Travis  Daniel      M   \n",
       "\n",
       "                             street       city  ...      lat     long  \\\n",
       "517197  1327 Rose Causeway Apt. 610  Senatobia  ...  34.6323 -89.8855   \n",
       "517274  1327 Rose Causeway Apt. 610  Senatobia  ...  34.6323 -89.8855   \n",
       "517341  1327 Rose Causeway Apt. 610  Senatobia  ...  34.6323 -89.8855   \n",
       "517529  1327 Rose Causeway Apt. 610  Senatobia  ...  34.6323 -89.8855   \n",
       "517571  1327 Rose Causeway Apt. 610  Senatobia  ...  34.6323 -89.8855   \n",
       "\n",
       "        city_pop                     job         dob  \\\n",
       "517197     14462  Database administrator  1959-03-03   \n",
       "517274     14462  Database administrator  1959-03-03   \n",
       "517341     14462  Database administrator  1959-03-03   \n",
       "517529     14462  Database administrator  1959-03-03   \n",
       "517571     14462  Database administrator  1959-03-03   \n",
       "\n",
       "                               trans_num   unix_time  merch_lat  merch_long  \\\n",
       "517197  35b0297dd026d2e9a75d024a5dec7955  1387749948  34.573471  -89.911011   \n",
       "517274  da7f67d7375f10a054a3d919448c45dd  1387750687  34.091227  -90.390612   \n",
       "517341  25b076c7bcd70f272c1c5326bb234f4b  1387751508  34.628434  -90.284780   \n",
       "517529  2df7d894868fbc99ec1d8b055585fc9d  1387753563  34.746063  -90.401093   \n",
       "517571  44292cbc51e37dc018ee6a988a4bc426  1387754019  33.771462  -90.651342   \n",
       "\n",
       "        is_fraud  \n",
       "517197         1  \n",
       "517274         1  \n",
       "517341         1  \n",
       "517529         1  \n",
       "517571         1  \n",
       "\n",
       "[5 rows x 22 columns]"
      ]
     },
     "execution_count": 17,
     "metadata": {},
     "output_type": "execute_result"
    }
   ],
   "source": [
    "new_credit_data.tail()"
   ]
  },
  {
   "cell_type": "code",
   "execution_count": 18,
   "id": "8fc83ea2",
   "metadata": {},
   "outputs": [
    {
     "data": {
      "text/plain": [
       "0    2145\n",
       "1    2145\n",
       "Name: is_fraud, dtype: int64"
      ]
     },
     "execution_count": 18,
     "metadata": {},
     "output_type": "execute_result"
    }
   ],
   "source": [
    "new_credit_data['is_fraud'].value_counts()"
   ]
  },
  {
   "cell_type": "code",
   "execution_count": 19,
   "id": "801d1b6d",
   "metadata": {},
   "outputs": [
    {
     "name": "stderr",
     "output_type": "stream",
     "text": [
      "C:\\Users\\HP\\AppData\\Local\\Temp\\ipykernel_12740\\904473221.py:1: FutureWarning: The default value of numeric_only in DataFrameGroupBy.mean is deprecated. In a future version, numeric_only will default to False. Either specify numeric_only or select only columns which should be valid for the function.\n",
      "  new_credit_data.groupby('is_fraud').mean()\n"
     ]
    },
    {
     "data": {
      "text/html": [
       "<div>\n",
       "<style scoped>\n",
       "    .dataframe tbody tr th:only-of-type {\n",
       "        vertical-align: middle;\n",
       "    }\n",
       "\n",
       "    .dataframe tbody tr th {\n",
       "        vertical-align: top;\n",
       "    }\n",
       "\n",
       "    .dataframe thead th {\n",
       "        text-align: right;\n",
       "    }\n",
       "</style>\n",
       "<table border=\"1\" class=\"dataframe\">\n",
       "  <thead>\n",
       "    <tr style=\"text-align: right;\">\n",
       "      <th></th>\n",
       "      <th>Unnamed: 0</th>\n",
       "      <th>cc_num</th>\n",
       "      <th>amt</th>\n",
       "      <th>zip</th>\n",
       "      <th>lat</th>\n",
       "      <th>long</th>\n",
       "      <th>city_pop</th>\n",
       "      <th>unix_time</th>\n",
       "      <th>merch_lat</th>\n",
       "      <th>merch_long</th>\n",
       "    </tr>\n",
       "    <tr>\n",
       "      <th>is_fraud</th>\n",
       "      <th></th>\n",
       "      <th></th>\n",
       "      <th></th>\n",
       "      <th></th>\n",
       "      <th></th>\n",
       "      <th></th>\n",
       "      <th></th>\n",
       "      <th></th>\n",
       "      <th></th>\n",
       "      <th></th>\n",
       "    </tr>\n",
       "  </thead>\n",
       "  <tbody>\n",
       "    <tr>\n",
       "      <th>0</th>\n",
       "      <td>273353.490443</td>\n",
       "      <td>4.567667e+17</td>\n",
       "      <td>68.370984</td>\n",
       "      <td>48348.399068</td>\n",
       "      <td>38.313718</td>\n",
       "      <td>-90.042680</td>\n",
       "      <td>71079.197669</td>\n",
       "      <td>1.380544e+09</td>\n",
       "      <td>38.320825</td>\n",
       "      <td>-90.037615</td>\n",
       "    </tr>\n",
       "    <tr>\n",
       "      <th>1</th>\n",
       "      <td>242057.088112</td>\n",
       "      <td>3.854274e+17</td>\n",
       "      <td>528.356494</td>\n",
       "      <td>47862.900233</td>\n",
       "      <td>39.019971</td>\n",
       "      <td>-90.445556</td>\n",
       "      <td>64529.321678</td>\n",
       "      <td>1.379587e+09</td>\n",
       "      <td>39.018618</td>\n",
       "      <td>-90.465222</td>\n",
       "    </tr>\n",
       "  </tbody>\n",
       "</table>\n",
       "</div>"
      ],
      "text/plain": [
       "             Unnamed: 0        cc_num         amt           zip        lat  \\\n",
       "is_fraud                                                                     \n",
       "0         273353.490443  4.567667e+17   68.370984  48348.399068  38.313718   \n",
       "1         242057.088112  3.854274e+17  528.356494  47862.900233  39.019971   \n",
       "\n",
       "               long      city_pop     unix_time  merch_lat  merch_long  \n",
       "is_fraud                                                                \n",
       "0        -90.042680  71079.197669  1.380544e+09  38.320825  -90.037615  \n",
       "1        -90.445556  64529.321678  1.379587e+09  39.018618  -90.465222  "
      ]
     },
     "execution_count": 19,
     "metadata": {},
     "output_type": "execute_result"
    }
   ],
   "source": [
    "new_credit_data.groupby('is_fraud').mean()"
   ]
  },
  {
   "cell_type": "markdown",
   "id": "61c481ff",
   "metadata": {},
   "source": [
    "SPLITTING THE DATA INTO TARGET AND FEATURES"
   ]
  },
  {
   "cell_type": "code",
   "execution_count": 20,
   "id": "ad6060c2",
   "metadata": {},
   "outputs": [],
   "source": [
    "X=new_credit_data.drop(columns='is_fraud',axis=1)\n",
    "Y=new_credit_data['is_fraud']"
   ]
  },
  {
   "cell_type": "code",
   "execution_count": 21,
   "id": "dffd0d4b",
   "metadata": {},
   "outputs": [
    {
     "name": "stdout",
     "output_type": "stream",
     "text": [
      "        Unnamed: 0            cc_num                                merchant  \\\n",
      "4509          4509  2269768987945882                        fraud_Larkin Ltd   \n",
      "482553      482553  2720894374956739          fraud_Kunze, Larkin and Mayert   \n",
      "472155      472155    30273037698427                      fraud_Bauch-Blanda   \n",
      "83051        83051  4449530933957323  fraud_Johnson, Runolfsdottir and Mayer   \n",
      "170098      170098   343464013864032                 fraud_Champlin and Sons   \n",
      "...            ...               ...                                     ...   \n",
      "517197      517197  2242176657877538         fraud_Willms, Kris and Bergnaum   \n",
      "517274      517274  2242176657877538                          fraud_Kuhn LLC   \n",
      "517341      517341  2242176657877538     fraud_Mosciski, Ziemann and Farrell   \n",
      "517529      517529  2242176657877538                      fraud_Bauch-Raynor   \n",
      "517571      517571  2242176657877538              fraud_Jaskolski-Vandervort   \n",
      "\n",
      "             category      amt    first       last gender  \\\n",
      "4509        kids_pets    10.62  Shannon  Patterson      F   \n",
      "482553         travel     5.05   Audrey    Hickman      F   \n",
      "472155  entertainment    62.21   Andrew  Patterson      M   \n",
      "83051        misc_net   164.05  Felicia      Mckee      F   \n",
      "170098           home   170.52     Jodi     Foster      F   \n",
      "...               ...      ...      ...        ...    ...   \n",
      "517197   shopping_pos  1041.51   Travis     Daniel      M   \n",
      "517274   shopping_pos   868.09   Travis     Daniel      M   \n",
      "517341   shopping_net  1039.42   Travis     Daniel      M   \n",
      "517529    grocery_pos   289.27   Travis     Daniel      M   \n",
      "517571       misc_net   766.38   Travis     Daniel      M   \n",
      "\n",
      "                                street           city  ...    zip      lat  \\\n",
      "4509                 9808 Ellis Bypass   Mount Morris  ...  14510  42.6835   \n",
      "482553             3325 Gregory Square  Mount Clemens  ...  48043  42.5978   \n",
      "472155  06959 Stephen Branch Suite 246          Thida  ...  72165  35.5762   \n",
      "83051               84079 Thomas Burgs        Tomales  ...  94971  38.2427   \n",
      "170098             551 Zachary Freeway         Bailey  ...  27807  35.8072   \n",
      "...                                ...            ...  ...    ...      ...   \n",
      "517197     1327 Rose Causeway Apt. 610      Senatobia  ...  38668  34.6323   \n",
      "517274     1327 Rose Causeway Apt. 610      Senatobia  ...  38668  34.6323   \n",
      "517341     1327 Rose Causeway Apt. 610      Senatobia  ...  38668  34.6323   \n",
      "517529     1327 Rose Causeway Apt. 610      Senatobia  ...  38668  34.6323   \n",
      "517571     1327 Rose Causeway Apt. 610      Senatobia  ...  38668  34.6323   \n",
      "\n",
      "            long  city_pop                               job         dob  \\\n",
      "4509    -77.8664      4895                     Acupuncturist  1958-10-29   \n",
      "482553  -82.8823     16305  Psychologist, sport and exercise  1927-05-25   \n",
      "472155  -91.4539       111       Careers information officer  2000-06-13   \n",
      "83051  -122.9145       337         Occupational psychologist  1954-07-05   \n",
      "170098  -78.0892      6629               Call centre manager  1962-08-13   \n",
      "...          ...       ...                               ...         ...   \n",
      "517197  -89.8855     14462            Database administrator  1959-03-03   \n",
      "517274  -89.8855     14462            Database administrator  1959-03-03   \n",
      "517341  -89.8855     14462            Database administrator  1959-03-03   \n",
      "517529  -89.8855     14462            Database administrator  1959-03-03   \n",
      "517571  -89.8855     14462            Database administrator  1959-03-03   \n",
      "\n",
      "                               trans_num   unix_time  merch_lat  merch_long  \n",
      "4509    141142fbd597c5cfa150081bfa532941  1371917930  42.680736  -77.111898  \n",
      "482553  a5f07860d4d401c07dc450fdb7aa0f05  1387113172  41.885393  -83.874640  \n",
      "472155  e65580041d11e073ae315eab5484158f  1386962141  36.330748  -91.096043  \n",
      "83051   4d59b37780d3a11949d0fc4113110acb  1374308362  37.622148 -122.299136  \n",
      "170098  c4ea8233a439063bccbd0976f4777273  1376927119  36.301606  -77.716004  \n",
      "...                                  ...         ...        ...         ...  \n",
      "517197  35b0297dd026d2e9a75d024a5dec7955  1387749948  34.573471  -89.911011  \n",
      "517274  da7f67d7375f10a054a3d919448c45dd  1387750687  34.091227  -90.390612  \n",
      "517341  25b076c7bcd70f272c1c5326bb234f4b  1387751508  34.628434  -90.284780  \n",
      "517529  2df7d894868fbc99ec1d8b055585fc9d  1387753563  34.746063  -90.401093  \n",
      "517571  44292cbc51e37dc018ee6a988a4bc426  1387754019  33.771462  -90.651342  \n",
      "\n",
      "[4290 rows x 21 columns]\n"
     ]
    }
   ],
   "source": [
    "print(X)"
   ]
  },
  {
   "cell_type": "code",
   "execution_count": 22,
   "id": "6f2e62e6",
   "metadata": {},
   "outputs": [
    {
     "name": "stdout",
     "output_type": "stream",
     "text": [
      "4509      0\n",
      "482553    0\n",
      "472155    0\n",
      "83051     0\n",
      "170098    0\n",
      "         ..\n",
      "517197    1\n",
      "517274    1\n",
      "517341    1\n",
      "517529    1\n",
      "517571    1\n",
      "Name: is_fraud, Length: 4290, dtype: int64\n"
     ]
    }
   ],
   "source": [
    "print(Y)"
   ]
  },
  {
   "cell_type": "code",
   "execution_count": 23,
   "id": "43d64a72",
   "metadata": {},
   "outputs": [],
   "source": [
    "# Exclude non-numeric columns from scaling\n",
    "numeric_columns = X.select_dtypes(include=[np.number]).columns\n",
    "X_numeric = X[numeric_columns]"
   ]
  },
  {
   "cell_type": "markdown",
   "id": "e41d1abd",
   "metadata": {},
   "source": [
    "SPLIT THE DATA INTO TRAINING DATA AND TESTING DATA "
   ]
  },
  {
   "cell_type": "code",
   "execution_count": 24,
   "id": "b986844a",
   "metadata": {},
   "outputs": [],
   "source": [
    "X_train,X_test,Y_train,Y_test=train_test_split(X_numeric,Y,test_size=0.2,stratify=Y,random_state=2)"
   ]
  },
  {
   "cell_type": "code",
   "execution_count": 25,
   "id": "38c883a0",
   "metadata": {},
   "outputs": [
    {
     "name": "stdout",
     "output_type": "stream",
     "text": [
      "(4290, 21) (3432, 10) (858, 10)\n"
     ]
    }
   ],
   "source": [
    "print(X.shape,X_train.shape,X_test.shape)"
   ]
  },
  {
   "cell_type": "code",
   "execution_count": 26,
   "id": "baa6202f",
   "metadata": {},
   "outputs": [],
   "source": [
    "# Standardize features\n",
    "scaler = StandardScaler()\n",
    "X_train = scaler.fit_transform(X_train)\n",
    "X_test = scaler.transform(X_test)"
   ]
  },
  {
   "cell_type": "markdown",
   "id": "04cd7e21",
   "metadata": {},
   "source": [
    "MODEL TRAINING \n",
    "LOGISTIC REGRESSION"
   ]
  },
  {
   "cell_type": "code",
   "execution_count": 27,
   "id": "87d1e611",
   "metadata": {},
   "outputs": [],
   "source": [
    "logistic_model=LogisticRegression()"
   ]
  },
  {
   "cell_type": "code",
   "execution_count": 28,
   "id": "e9541b9a",
   "metadata": {},
   "outputs": [
    {
     "data": {
      "text/html": [
       "<style>#sk-container-id-1 {color: black;}#sk-container-id-1 pre{padding: 0;}#sk-container-id-1 div.sk-toggleable {background-color: white;}#sk-container-id-1 label.sk-toggleable__label {cursor: pointer;display: block;width: 100%;margin-bottom: 0;padding: 0.3em;box-sizing: border-box;text-align: center;}#sk-container-id-1 label.sk-toggleable__label-arrow:before {content: \"▸\";float: left;margin-right: 0.25em;color: #696969;}#sk-container-id-1 label.sk-toggleable__label-arrow:hover:before {color: black;}#sk-container-id-1 div.sk-estimator:hover label.sk-toggleable__label-arrow:before {color: black;}#sk-container-id-1 div.sk-toggleable__content {max-height: 0;max-width: 0;overflow: hidden;text-align: left;background-color: #f0f8ff;}#sk-container-id-1 div.sk-toggleable__content pre {margin: 0.2em;color: black;border-radius: 0.25em;background-color: #f0f8ff;}#sk-container-id-1 input.sk-toggleable__control:checked~div.sk-toggleable__content {max-height: 200px;max-width: 100%;overflow: auto;}#sk-container-id-1 input.sk-toggleable__control:checked~label.sk-toggleable__label-arrow:before {content: \"▾\";}#sk-container-id-1 div.sk-estimator input.sk-toggleable__control:checked~label.sk-toggleable__label {background-color: #d4ebff;}#sk-container-id-1 div.sk-label input.sk-toggleable__control:checked~label.sk-toggleable__label {background-color: #d4ebff;}#sk-container-id-1 input.sk-hidden--visually {border: 0;clip: rect(1px 1px 1px 1px);clip: rect(1px, 1px, 1px, 1px);height: 1px;margin: -1px;overflow: hidden;padding: 0;position: absolute;width: 1px;}#sk-container-id-1 div.sk-estimator {font-family: monospace;background-color: #f0f8ff;border: 1px dotted black;border-radius: 0.25em;box-sizing: border-box;margin-bottom: 0.5em;}#sk-container-id-1 div.sk-estimator:hover {background-color: #d4ebff;}#sk-container-id-1 div.sk-parallel-item::after {content: \"\";width: 100%;border-bottom: 1px solid gray;flex-grow: 1;}#sk-container-id-1 div.sk-label:hover label.sk-toggleable__label {background-color: #d4ebff;}#sk-container-id-1 div.sk-serial::before {content: \"\";position: absolute;border-left: 1px solid gray;box-sizing: border-box;top: 0;bottom: 0;left: 50%;z-index: 0;}#sk-container-id-1 div.sk-serial {display: flex;flex-direction: column;align-items: center;background-color: white;padding-right: 0.2em;padding-left: 0.2em;position: relative;}#sk-container-id-1 div.sk-item {position: relative;z-index: 1;}#sk-container-id-1 div.sk-parallel {display: flex;align-items: stretch;justify-content: center;background-color: white;position: relative;}#sk-container-id-1 div.sk-item::before, #sk-container-id-1 div.sk-parallel-item::before {content: \"\";position: absolute;border-left: 1px solid gray;box-sizing: border-box;top: 0;bottom: 0;left: 50%;z-index: -1;}#sk-container-id-1 div.sk-parallel-item {display: flex;flex-direction: column;z-index: 1;position: relative;background-color: white;}#sk-container-id-1 div.sk-parallel-item:first-child::after {align-self: flex-end;width: 50%;}#sk-container-id-1 div.sk-parallel-item:last-child::after {align-self: flex-start;width: 50%;}#sk-container-id-1 div.sk-parallel-item:only-child::after {width: 0;}#sk-container-id-1 div.sk-dashed-wrapped {border: 1px dashed gray;margin: 0 0.4em 0.5em 0.4em;box-sizing: border-box;padding-bottom: 0.4em;background-color: white;}#sk-container-id-1 div.sk-label label {font-family: monospace;font-weight: bold;display: inline-block;line-height: 1.2em;}#sk-container-id-1 div.sk-label-container {text-align: center;}#sk-container-id-1 div.sk-container {/* jupyter's `normalize.less` sets `[hidden] { display: none; }` but bootstrap.min.css set `[hidden] { display: none !important; }` so we also need the `!important` here to be able to override the default hidden behavior on the sphinx rendered scikit-learn.org. See: https://github.com/scikit-learn/scikit-learn/issues/21755 */display: inline-block !important;position: relative;}#sk-container-id-1 div.sk-text-repr-fallback {display: none;}</style><div id=\"sk-container-id-1\" class=\"sk-top-container\"><div class=\"sk-text-repr-fallback\"><pre>LogisticRegression()</pre><b>In a Jupyter environment, please rerun this cell to show the HTML representation or trust the notebook. <br />On GitHub, the HTML representation is unable to render, please try loading this page with nbviewer.org.</b></div><div class=\"sk-container\" hidden><div class=\"sk-item\"><div class=\"sk-estimator sk-toggleable\"><input class=\"sk-toggleable__control sk-hidden--visually\" id=\"sk-estimator-id-1\" type=\"checkbox\" checked><label for=\"sk-estimator-id-1\" class=\"sk-toggleable__label sk-toggleable__label-arrow\">LogisticRegression</label><div class=\"sk-toggleable__content\"><pre>LogisticRegression()</pre></div></div></div></div></div>"
      ],
      "text/plain": [
       "LogisticRegression()"
      ]
     },
     "execution_count": 28,
     "metadata": {},
     "output_type": "execute_result"
    }
   ],
   "source": [
    "#training the Logistic Regression using training data\n",
    "logistic_model.fit(X_train,Y_train)"
   ]
  },
  {
   "cell_type": "markdown",
   "id": "d1cc2456",
   "metadata": {},
   "source": [
    "MODEL EVALUATION\n",
    "\n",
    "ACCURACY SCORE"
   ]
  },
  {
   "cell_type": "code",
   "execution_count": 29,
   "id": "feb79f85",
   "metadata": {},
   "outputs": [
    {
     "name": "stdout",
     "output_type": "stream",
     "text": [
      "Logistic Regression Results:\n",
      "Accuracy: 0.8490675990675991\n",
      "Precision: 0.7482517482517482\n",
      "Recall: 0.9372262773722628\n",
      "F1 Score: 0.832145171743357\n",
      "Confusion Matrix:\n",
      "[[1630  432]\n",
      " [  86 1284]]\n"
     ]
    }
   ],
   "source": [
    "#accuracy on training data\n",
    "X_train_prediction=logistic_model.predict(X_train)\n",
    "training_data_accuracy=accuracy_score(X_train_prediction,Y_train)\n",
    "\n",
    "# Evaluate the model\n",
    "training_data_accuracy=accuracy_score(X_train_prediction,Y_train)\n",
    "training_data_precision = precision_score(X_train_prediction,Y_train)\n",
    "training_data_recall = recall_score(X_train_prediction,Y_train)\n",
    "training_data_f1 = f1_score(X_train_prediction,Y_train)\n",
    "training_data_confusion_matrix = confusion_matrix(X_train_prediction,Y_train)\n",
    "\n",
    "print(\"Logistic Regression Results:\")\n",
    "print(f\"Accuracy: {training_data_accuracy}\")\n",
    "print(f\"Precision: {training_data_precision}\")\n",
    "print(f\"Recall: {training_data_recall}\")\n",
    "print(f\"F1 Score: {training_data_f1}\")\n",
    "print(f\"Confusion Matrix:\\n{training_data_confusion_matrix}\")\n"
   ]
  },
  {
   "cell_type": "code",
   "execution_count": 30,
   "id": "7458f879",
   "metadata": {},
   "outputs": [
    {
     "name": "stdout",
     "output_type": "stream",
     "text": [
      "Logistic Regression Results:\n",
      "Accuracy: 0.8554778554778555\n",
      "Precision: 0.7435897435897436\n",
      "Recall: 0.9579579579579579\n",
      "F1 Score: 0.8372703412073491\n",
      "Confusion Matrix:\n",
      "[[415 110]\n",
      " [ 14 319]]\n"
     ]
    }
   ],
   "source": [
    "#accuracy on test data\n",
    "X_test_prediction=logistic_model.predict(X_test)\n",
    "training_data_accuracy=accuracy_score(X_test_prediction,Y_test)\n",
    "\n",
    "# Evaluate the model\n",
    "test_data_accuracy=accuracy_score(X_test_prediction,Y_test)\n",
    "test_data_precision = precision_score(X_test_prediction,Y_test)\n",
    "test_data_recall = recall_score(X_test_prediction,Y_test)\n",
    "test_data_f1 = f1_score(X_test_prediction,Y_test)\n",
    "test_data_confusion_matrix = confusion_matrix(X_test_prediction,Y_test)\n",
    "\n",
    "print(\"Logistic Regression Results:\")\n",
    "print(f\"Accuracy: {test_data_accuracy}\")\n",
    "print(f\"Precision: {test_data_precision}\")\n",
    "print(f\"Recall: {test_data_recall}\")\n",
    "print(f\"F1 Score: {test_data_f1}\")\n",
    "print(f\"Confusion Matrix:\\n{test_data_confusion_matrix}\")\n"
   ]
  },
  {
   "cell_type": "code",
   "execution_count": 31,
   "id": "f7f89c6b",
   "metadata": {},
   "outputs": [
    {
     "name": "stdout",
     "output_type": "stream",
     "text": [
      "Accuracy on training data: 0.8554778554778555\n"
     ]
    }
   ],
   "source": [
    "print(\"Accuracy on training data:\", training_data_accuracy)"
   ]
  },
  {
   "cell_type": "code",
   "execution_count": 32,
   "id": "cee6574a",
   "metadata": {},
   "outputs": [
    {
     "name": "stdout",
     "output_type": "stream",
     "text": [
      "Accuracy on testing data: 0.8554778554778555\n"
     ]
    }
   ],
   "source": [
    "#accuracy on testing data\n",
    "print(\"Accuracy on testing data:\", test_data_accuracy)"
   ]
  },
  {
   "cell_type": "markdown",
   "id": "a6efb7f1",
   "metadata": {},
   "source": [
    "DECISION TREE"
   ]
  },
  {
   "cell_type": "code",
   "execution_count": 33,
   "id": "a800f7e3",
   "metadata": {},
   "outputs": [
    {
     "data": {
      "text/html": [
       "<style>#sk-container-id-2 {color: black;}#sk-container-id-2 pre{padding: 0;}#sk-container-id-2 div.sk-toggleable {background-color: white;}#sk-container-id-2 label.sk-toggleable__label {cursor: pointer;display: block;width: 100%;margin-bottom: 0;padding: 0.3em;box-sizing: border-box;text-align: center;}#sk-container-id-2 label.sk-toggleable__label-arrow:before {content: \"▸\";float: left;margin-right: 0.25em;color: #696969;}#sk-container-id-2 label.sk-toggleable__label-arrow:hover:before {color: black;}#sk-container-id-2 div.sk-estimator:hover label.sk-toggleable__label-arrow:before {color: black;}#sk-container-id-2 div.sk-toggleable__content {max-height: 0;max-width: 0;overflow: hidden;text-align: left;background-color: #f0f8ff;}#sk-container-id-2 div.sk-toggleable__content pre {margin: 0.2em;color: black;border-radius: 0.25em;background-color: #f0f8ff;}#sk-container-id-2 input.sk-toggleable__control:checked~div.sk-toggleable__content {max-height: 200px;max-width: 100%;overflow: auto;}#sk-container-id-2 input.sk-toggleable__control:checked~label.sk-toggleable__label-arrow:before {content: \"▾\";}#sk-container-id-2 div.sk-estimator input.sk-toggleable__control:checked~label.sk-toggleable__label {background-color: #d4ebff;}#sk-container-id-2 div.sk-label input.sk-toggleable__control:checked~label.sk-toggleable__label {background-color: #d4ebff;}#sk-container-id-2 input.sk-hidden--visually {border: 0;clip: rect(1px 1px 1px 1px);clip: rect(1px, 1px, 1px, 1px);height: 1px;margin: -1px;overflow: hidden;padding: 0;position: absolute;width: 1px;}#sk-container-id-2 div.sk-estimator {font-family: monospace;background-color: #f0f8ff;border: 1px dotted black;border-radius: 0.25em;box-sizing: border-box;margin-bottom: 0.5em;}#sk-container-id-2 div.sk-estimator:hover {background-color: #d4ebff;}#sk-container-id-2 div.sk-parallel-item::after {content: \"\";width: 100%;border-bottom: 1px solid gray;flex-grow: 1;}#sk-container-id-2 div.sk-label:hover label.sk-toggleable__label {background-color: #d4ebff;}#sk-container-id-2 div.sk-serial::before {content: \"\";position: absolute;border-left: 1px solid gray;box-sizing: border-box;top: 0;bottom: 0;left: 50%;z-index: 0;}#sk-container-id-2 div.sk-serial {display: flex;flex-direction: column;align-items: center;background-color: white;padding-right: 0.2em;padding-left: 0.2em;position: relative;}#sk-container-id-2 div.sk-item {position: relative;z-index: 1;}#sk-container-id-2 div.sk-parallel {display: flex;align-items: stretch;justify-content: center;background-color: white;position: relative;}#sk-container-id-2 div.sk-item::before, #sk-container-id-2 div.sk-parallel-item::before {content: \"\";position: absolute;border-left: 1px solid gray;box-sizing: border-box;top: 0;bottom: 0;left: 50%;z-index: -1;}#sk-container-id-2 div.sk-parallel-item {display: flex;flex-direction: column;z-index: 1;position: relative;background-color: white;}#sk-container-id-2 div.sk-parallel-item:first-child::after {align-self: flex-end;width: 50%;}#sk-container-id-2 div.sk-parallel-item:last-child::after {align-self: flex-start;width: 50%;}#sk-container-id-2 div.sk-parallel-item:only-child::after {width: 0;}#sk-container-id-2 div.sk-dashed-wrapped {border: 1px dashed gray;margin: 0 0.4em 0.5em 0.4em;box-sizing: border-box;padding-bottom: 0.4em;background-color: white;}#sk-container-id-2 div.sk-label label {font-family: monospace;font-weight: bold;display: inline-block;line-height: 1.2em;}#sk-container-id-2 div.sk-label-container {text-align: center;}#sk-container-id-2 div.sk-container {/* jupyter's `normalize.less` sets `[hidden] { display: none; }` but bootstrap.min.css set `[hidden] { display: none !important; }` so we also need the `!important` here to be able to override the default hidden behavior on the sphinx rendered scikit-learn.org. See: https://github.com/scikit-learn/scikit-learn/issues/21755 */display: inline-block !important;position: relative;}#sk-container-id-2 div.sk-text-repr-fallback {display: none;}</style><div id=\"sk-container-id-2\" class=\"sk-top-container\"><div class=\"sk-text-repr-fallback\"><pre>DecisionTreeClassifier()</pre><b>In a Jupyter environment, please rerun this cell to show the HTML representation or trust the notebook. <br />On GitHub, the HTML representation is unable to render, please try loading this page with nbviewer.org.</b></div><div class=\"sk-container\" hidden><div class=\"sk-item\"><div class=\"sk-estimator sk-toggleable\"><input class=\"sk-toggleable__control sk-hidden--visually\" id=\"sk-estimator-id-2\" type=\"checkbox\" checked><label for=\"sk-estimator-id-2\" class=\"sk-toggleable__label sk-toggleable__label-arrow\">DecisionTreeClassifier</label><div class=\"sk-toggleable__content\"><pre>DecisionTreeClassifier()</pre></div></div></div></div></div>"
      ],
      "text/plain": [
       "DecisionTreeClassifier()"
      ]
     },
     "execution_count": 33,
     "metadata": {},
     "output_type": "execute_result"
    }
   ],
   "source": [
    "# Create and train the Decision Tree model\n",
    "dt_model = DecisionTreeClassifier()\n",
    "dt_model.fit(X_train, Y_train)"
   ]
  },
  {
   "cell_type": "code",
   "execution_count": 34,
   "id": "8e5f5b9f",
   "metadata": {},
   "outputs": [],
   "source": [
    "# Make predictions\n",
    "dt_predictions = dt_model.predict(X_test)"
   ]
  },
  {
   "cell_type": "code",
   "execution_count": 35,
   "id": "96ba2c77",
   "metadata": {},
   "outputs": [
    {
     "name": "stdout",
     "output_type": "stream",
     "text": [
      "Decision Tree Accuracy: 0.872960372960373\n",
      "Classification Report:\n",
      "              precision    recall  f1-score   support\n",
      "\n",
      "           0       0.88      0.87      0.87       429\n",
      "           1       0.87      0.88      0.87       429\n",
      "\n",
      "    accuracy                           0.87       858\n",
      "   macro avg       0.87      0.87      0.87       858\n",
      "weighted avg       0.87      0.87      0.87       858\n",
      "\n"
     ]
    }
   ],
   "source": [
    "# Evaluate the model\n",
    "dt_accuracy = accuracy_score(Y_test, dt_predictions)\n",
    "dt_report = classification_report(Y_test, dt_predictions)\n",
    "print(f\"Decision Tree Accuracy: {dt_accuracy}\")\n",
    "print(f\"Classification Report:\\n{dt_report}\")"
   ]
  },
  {
   "cell_type": "markdown",
   "id": "a143bc59",
   "metadata": {},
   "source": [
    "RANDOM FOREST"
   ]
  },
  {
   "cell_type": "code",
   "execution_count": 36,
   "id": "fad9d162",
   "metadata": {},
   "outputs": [
    {
     "data": {
      "text/html": [
       "<style>#sk-container-id-3 {color: black;}#sk-container-id-3 pre{padding: 0;}#sk-container-id-3 div.sk-toggleable {background-color: white;}#sk-container-id-3 label.sk-toggleable__label {cursor: pointer;display: block;width: 100%;margin-bottom: 0;padding: 0.3em;box-sizing: border-box;text-align: center;}#sk-container-id-3 label.sk-toggleable__label-arrow:before {content: \"▸\";float: left;margin-right: 0.25em;color: #696969;}#sk-container-id-3 label.sk-toggleable__label-arrow:hover:before {color: black;}#sk-container-id-3 div.sk-estimator:hover label.sk-toggleable__label-arrow:before {color: black;}#sk-container-id-3 div.sk-toggleable__content {max-height: 0;max-width: 0;overflow: hidden;text-align: left;background-color: #f0f8ff;}#sk-container-id-3 div.sk-toggleable__content pre {margin: 0.2em;color: black;border-radius: 0.25em;background-color: #f0f8ff;}#sk-container-id-3 input.sk-toggleable__control:checked~div.sk-toggleable__content {max-height: 200px;max-width: 100%;overflow: auto;}#sk-container-id-3 input.sk-toggleable__control:checked~label.sk-toggleable__label-arrow:before {content: \"▾\";}#sk-container-id-3 div.sk-estimator input.sk-toggleable__control:checked~label.sk-toggleable__label {background-color: #d4ebff;}#sk-container-id-3 div.sk-label input.sk-toggleable__control:checked~label.sk-toggleable__label {background-color: #d4ebff;}#sk-container-id-3 input.sk-hidden--visually {border: 0;clip: rect(1px 1px 1px 1px);clip: rect(1px, 1px, 1px, 1px);height: 1px;margin: -1px;overflow: hidden;padding: 0;position: absolute;width: 1px;}#sk-container-id-3 div.sk-estimator {font-family: monospace;background-color: #f0f8ff;border: 1px dotted black;border-radius: 0.25em;box-sizing: border-box;margin-bottom: 0.5em;}#sk-container-id-3 div.sk-estimator:hover {background-color: #d4ebff;}#sk-container-id-3 div.sk-parallel-item::after {content: \"\";width: 100%;border-bottom: 1px solid gray;flex-grow: 1;}#sk-container-id-3 div.sk-label:hover label.sk-toggleable__label {background-color: #d4ebff;}#sk-container-id-3 div.sk-serial::before {content: \"\";position: absolute;border-left: 1px solid gray;box-sizing: border-box;top: 0;bottom: 0;left: 50%;z-index: 0;}#sk-container-id-3 div.sk-serial {display: flex;flex-direction: column;align-items: center;background-color: white;padding-right: 0.2em;padding-left: 0.2em;position: relative;}#sk-container-id-3 div.sk-item {position: relative;z-index: 1;}#sk-container-id-3 div.sk-parallel {display: flex;align-items: stretch;justify-content: center;background-color: white;position: relative;}#sk-container-id-3 div.sk-item::before, #sk-container-id-3 div.sk-parallel-item::before {content: \"\";position: absolute;border-left: 1px solid gray;box-sizing: border-box;top: 0;bottom: 0;left: 50%;z-index: -1;}#sk-container-id-3 div.sk-parallel-item {display: flex;flex-direction: column;z-index: 1;position: relative;background-color: white;}#sk-container-id-3 div.sk-parallel-item:first-child::after {align-self: flex-end;width: 50%;}#sk-container-id-3 div.sk-parallel-item:last-child::after {align-self: flex-start;width: 50%;}#sk-container-id-3 div.sk-parallel-item:only-child::after {width: 0;}#sk-container-id-3 div.sk-dashed-wrapped {border: 1px dashed gray;margin: 0 0.4em 0.5em 0.4em;box-sizing: border-box;padding-bottom: 0.4em;background-color: white;}#sk-container-id-3 div.sk-label label {font-family: monospace;font-weight: bold;display: inline-block;line-height: 1.2em;}#sk-container-id-3 div.sk-label-container {text-align: center;}#sk-container-id-3 div.sk-container {/* jupyter's `normalize.less` sets `[hidden] { display: none; }` but bootstrap.min.css set `[hidden] { display: none !important; }` so we also need the `!important` here to be able to override the default hidden behavior on the sphinx rendered scikit-learn.org. See: https://github.com/scikit-learn/scikit-learn/issues/21755 */display: inline-block !important;position: relative;}#sk-container-id-3 div.sk-text-repr-fallback {display: none;}</style><div id=\"sk-container-id-3\" class=\"sk-top-container\"><div class=\"sk-text-repr-fallback\"><pre>RandomForestClassifier()</pre><b>In a Jupyter environment, please rerun this cell to show the HTML representation or trust the notebook. <br />On GitHub, the HTML representation is unable to render, please try loading this page with nbviewer.org.</b></div><div class=\"sk-container\" hidden><div class=\"sk-item\"><div class=\"sk-estimator sk-toggleable\"><input class=\"sk-toggleable__control sk-hidden--visually\" id=\"sk-estimator-id-3\" type=\"checkbox\" checked><label for=\"sk-estimator-id-3\" class=\"sk-toggleable__label sk-toggleable__label-arrow\">RandomForestClassifier</label><div class=\"sk-toggleable__content\"><pre>RandomForestClassifier()</pre></div></div></div></div></div>"
      ],
      "text/plain": [
       "RandomForestClassifier()"
      ]
     },
     "execution_count": 36,
     "metadata": {},
     "output_type": "execute_result"
    }
   ],
   "source": [
    "# Create and train the Random Forest model\n",
    "rf_model = RandomForestClassifier()\n",
    "rf_model.fit(X_train, Y_train)"
   ]
  },
  {
   "cell_type": "code",
   "execution_count": 37,
   "id": "a6dc190e",
   "metadata": {},
   "outputs": [],
   "source": [
    "# Make predictions\n",
    "rf_predictions = rf_model.predict(X_test)"
   ]
  },
  {
   "cell_type": "code",
   "execution_count": 38,
   "id": "47b3d774",
   "metadata": {},
   "outputs": [
    {
     "name": "stdout",
     "output_type": "stream",
     "text": [
      "Random Forest Accuracy: 0.9358974358974359\n"
     ]
    }
   ],
   "source": [
    "# Evaluate the model\n",
    "rf_accuracy = accuracy_score(Y_test, rf_predictions)\n",
    "rf_report = classification_report(Y_test, rf_predictions)\n",
    "print(f\"Random Forest Accuracy: {rf_accuracy}\")"
   ]
  },
  {
   "cell_type": "markdown",
   "id": "a14b15b1",
   "metadata": {},
   "source": []
  }
 ],
 "metadata": {
  "kernelspec": {
   "display_name": "Python 3 (ipykernel)",
   "language": "python",
   "name": "python3"
  },
  "language_info": {
   "codemirror_mode": {
    "name": "ipython",
    "version": 3
   },
   "file_extension": ".py",
   "mimetype": "text/x-python",
   "name": "python",
   "nbconvert_exporter": "python",
   "pygments_lexer": "ipython3",
   "version": "3.11.4"
  }
 },
 "nbformat": 4,
 "nbformat_minor": 5
}
